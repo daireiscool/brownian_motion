{
 "cells": [
  {
   "cell_type": "markdown",
   "metadata": {},
   "source": [
    "Can we predict the distance from the origin of a Brownian Motion or Weiner Process.  \n",
    "Currently running on 1-dimensional Brownian Motion, but need to expand this the n-dimensions"
   ]
  },
  {
   "cell_type": "code",
   "execution_count": 1,
   "metadata": {},
   "outputs": [],
   "source": [
    "import numpy as np\n",
    "import math\n",
    "import random\n",
    "import matplotlib.pyplot as plt"
   ]
  },
  {
   "cell_type": "markdown",
   "metadata": {},
   "source": [
    "#### Probabilistic Experiment   \n",
    "##### - Distance from origin after 10 steps in a 1-dimension stocastic walk, with uniform steps between -1 and 1 (Brownian Motion).\n",
    "This probabilistic experiment will be to simulate a stocastic walk in 1-dimensions, (hopefully expanded to m-dimensions), and calculating the probability of being x distance from the origin.    \n",
    "\n",
    "In our Experiment, with a 1-dimension space, the walk starts at 0, and with every step, has a uniform probability of moving between -1 and 1 from the current position.    \n",
    "This random variable in this experiment will be uniformly distributed between -1 and 1 (but with options for different step distributions).  \n",
    "\n",
    "After 100000 steps what is the expected value and variance of the stocastic process?  \n",
    "\n",
    "This could be useful for physics, stock market modelling etc."
   ]
  },
  {
   "cell_type": "markdown",
   "metadata": {},
   "source": [
    "#### Calculating the Expected Value and the Standard Deviation for 1-dimensional steps:\n",
    "\n",
    "###### Individual step:\n",
    "Every step have a uniform probability between -1 and 1.\n",
    "Uniform Distribution equations can be found here: https://en.wikipedia.org/wiki/Continuous_uniform_distribution.\n",
    "\n",
    "Step Expected Value: (1/2).(a+b) -> (1/2)((-1)+1) = 0 \n",
    "\n",
    "Step Variance: (1/12).(b-a)^2 -> (1/12).(1-(-1))^2 = 4/12 = 1/3  \n",
    "Step Standard Deviation: Variance^(1/2) -> (1/3)^(1/2)  \n",
    "Distribution: Uniform\n",
    "\n",
    "###### Brownian Motion:\n",
    "Calculating the Expected and Standard Deviation with Uniform steps.  \n",
    "Every step is independant of the previous steps.\n",
    "\n",
    "Brownian Motion Expected Value: Expected(after n steps) = Expected(step 1) + Expected(step 2) ... + Expected(step n) = 0 + 0 + ... + 0 = 0\n",
    "\n",
    "Brownian Motion Variance: Variance(after n steps) = Variance(step 1) + Variance(step 2) +...+ Variance(step n) = (1/3) + (1/3) +...+ (1/3) = (n/3)   \n",
    "Brownian Motion Standard Deviation: Variance^(1/2) -> (n/3)^(1/2)  \n",
    "Distribution: Normal\n",
    "\n",
    "###### Distance from Origin:\n",
    "Calculating the Expected and Standard Deviation of the Distance from the Origin after n-steps in a 1-dimensional space.  \n",
    "We are getting the distance of a 1-dimensional space ranging from -n to n, this is equivalent (for our distance formula) to getting the absolute value of the final locations of the Brownian Motion.  \n",
    "Since the Brownian Motion is Normal Distributed, this creates a Half-Normal Distribution.  \n",
    "Half-Normal Distribution equations can be found here: https://en.wikipedia.org/wiki/Half-normal_distribution.  \n",
    "\n",
    "Distance Expected Value: Expected(after n steps) = (Variance(Brownian Motion).(2))^(1/2) /(pi)^(1/2) = (n/3).((2)^(1/2) /(pi)^(1/2))  \n",
    "\n",
    "Distance Variance: Variance(after n steps) = Variance(Brownian Motion)x(1 - (2/pi)) = (n/3).(1 - (2/pi))  \n",
    "Distance Standard Deviation: Variance^(1/2) -> ((n/3).(1 - (2/pi)))^(1/2)  \n",
    "Distribution: Half Normal  "
   ]
  },
  {
   "cell_type": "markdown",
   "metadata": {},
   "source": [
    "### For n = 10:\n",
    "\n",
    "##### Expected: (n/3)x((2)^(1/2)  /(pi)^(1/2))= 2.6596152026762185\n",
    "#####  Standard Deviation: (n/3)x(1 - (2/pi))^(1/2) = 1.100575951691384\n",
    "##### Distribution: Half Normal Distribution (https://en.wikipedia.org/wiki/Half-normal_distribution)"
   ]
  },
  {
   "cell_type": "markdown",
   "metadata": {},
   "source": [
    "#### Potential Improvements:\n",
    "Run on n-dimensions \n",
    "* Need a way to calculate the expected Expected and Standard Deviations in n-dimensions  \n",
    "* Need a different distance function for dimensions > 1 (\"Manhattan distance\", or \"Absolute-value\")?"
   ]
  },
  {
   "cell_type": "code",
   "execution_count": 2,
   "metadata": {},
   "outputs": [],
   "source": [
    "# Functions to get expected and standard deviation from formula above\n",
    "\n",
    "def calculated_expected_value_distance(step):\n",
    "    \"\"\"\n",
    "    Calculate the Expected Value of the distance from the origin\n",
    "    after n steps in Brownian Motion.\n",
    "    \n",
    "    ::param step: (int) Number of stocastic steps taken\n",
    "    ::return: (float)\n",
    "    \"\"\"\n",
    "    return ((step/3)*(2/ np.pi))**(1/2)\n",
    "\n",
    "def calculated_standard_deviation_distance(step):\n",
    "    \"\"\"\n",
    "    Calculate the Standard Deviation of the distance from the origin\n",
    "    after n steps in Brownian Motion.\n",
    "    \n",
    "    ::param step: (int) Number of stocastic steps taken\n",
    "    ::return: (float)\n",
    "    \"\"\"\n",
    "    return ((step/3)*(1 - (2/np.pi)))**(1/2)"
   ]
  },
  {
   "cell_type": "code",
   "execution_count": 3,
   "metadata": {},
   "outputs": [],
   "source": [
    "def random_step(\n",
    "    initial_pos,\n",
    "    step_range,\n",
    "    step_distribution = random.uniform\n",
    "):\n",
    "    \"\"\"\n",
    "    Function to simultate taking  a step in a stocastic direction.\n",
    "    \n",
    "    ::param initial_pos: (list) number of rolls of the dice\n",
    "    ::param step_range: (tuple) Range that each step length in one direction will be.\n",
    "    ::returns: (list) Location of next step\n",
    "    \"\"\"\n",
    "    assert (len(initial_pos) > 0),\\\n",
    "        \"The data must be in a space of greater dimension than 0.\"\n",
    "    \n",
    "    for var_pos in range(len(initial_pos)):\n",
    "        initial_pos[var_pos] += step_distribution(step_range[0], step_range[1])\n",
    "\n",
    "    return initial_pos"
   ]
  },
  {
   "cell_type": "code",
   "execution_count": 4,
   "metadata": {},
   "outputs": [],
   "source": [
    "def stocastic_walk(\n",
    "    steps = 10000, \n",
    "    dim = 2, \n",
    "    step_range = (-1,1),\n",
    "    **kwargs\n",
    "):\n",
    "    \"\"\"\n",
    "    Function to simultate walking in a stocastic direction.\n",
    "    \n",
    "    ::param steps: (int) Number of steps to walk \n",
    "    ::param dim: (int) dimensions of stocastic space\n",
    "    ::param step_range: (tuple) Range that each step length in one direction will be. -Normalise?\n",
    "    ::returns: (list) Location of next step\n",
    "    \"\"\"\n",
    "\n",
    "    initial_pos = [0]*dim\n",
    "    for step in range(steps):\n",
    "        initial_pos = random_step(initial_pos, step_range, **kwargs)\n",
    "    return initial_pos"
   ]
  },
  {
   "cell_type": "code",
   "execution_count": 5,
   "metadata": {},
   "outputs": [],
   "source": [
    "def iterate_stocastic_walk(\n",
    "    iterations = 10000,\n",
    "    steps = 100,\n",
    "    dim = 2,\n",
    "    step_range = (-1,1),\n",
    "    **kwargs\n",
    "):\n",
    "    \"\"\"\n",
    "    Iterate a stocastic waslk several times.\n",
    "    \n",
    "    ::param iterations: (int) Number of iterations, default = 10000\n",
    "    ::param steps: (int) Number of steps to walk, default = 100\n",
    "    ::param dim: (int) dimensions of stocastic space, default = 2 \n",
    "    ::param step_range: (tuple) Range that each step length in one direction will be. \n",
    "        -Normalise?, default = (-1,1)\n",
    "    ::returns: (list[list]) list of stocastic walk results \n",
    "    \"\"\"\n",
    "    result = []\n",
    "    for iteration in range(iterations):\n",
    "        result += [stocastic_walk(steps, dim, step_range,  **kwargs)]\n",
    "    return result"
   ]
  },
  {
   "cell_type": "code",
   "execution_count": 6,
   "metadata": {},
   "outputs": [],
   "source": [
    "def stocastic_distance_origin(random_walk_list):\n",
    "    \"\"\"\n",
    "    Function to get the distance from the origin for each stocastic walk.\n",
    "\n",
    "    ::param random_walk_list: (list[list])\n",
    "    ::returns: (list)\n",
    "    \"\"\"\n",
    "    def distance(data):\n",
    "        \"Get Euclidean distance of random walks\"\n",
    "        distance = 0\n",
    "        for val in data:\n",
    "            distance += val**2\n",
    "        return distance**(1/2)\n",
    "\n",
    "    distances = []\n",
    "    for walk in random_walk_list:\n",
    "        distances += [distance(walk)]\n",
    "    return distances"
   ]
  },
  {
   "cell_type": "code",
   "execution_count": 7,
   "metadata": {},
   "outputs": [],
   "source": [
    "def plot_2d_stocastic_walk(data):\n",
    "    \"\"\"\n",
    "    Plot the results of the stocastic walk (in 2 dimensions)\n",
    "    Plots as a scatter plot\n",
    "    \n",
    "    ::param data: (list[list]) list of stocastic walk results \n",
    "    \"\"\"\n",
    "    plt.hexbin(\n",
    "        [res[0] for res in result],\n",
    "        [0]*len(result))\n",
    "    plt.xlabel('Final location of first variable')\n",
    "    plt.ylabel('Final location of second variable')\n",
    "    plt.scatter(0,0, c = \"black\")\n",
    "    plt.text(0,0,'Initial value', c = \"black\", horizontalalignment='left')\n",
    "    plt.title(f\"Brownian Motion (2-Dimensional) results after {len(data)} iterations.\")\n",
    "\n",
    "\n",
    "def plot_1d_stocastic_walk(data):\n",
    "    \"\"\"\n",
    "    Plot the results of the stocastic walk (in 1 dimensions)\n",
    "    Plots as a scatter plot\n",
    "    \n",
    "    ::param data: (list[list]) list of stocastic walk results \n",
    "    \"\"\"\n",
    "    plt.hist(\n",
    "        [res[0] for res in result], bins = 100)\n",
    "    plt.xlabel('Count')\n",
    "    plt.ylabel('Final step location')\n",
    "    plt.title(f\"Brownian Motion (1-Dimensional) results after {len(data)} iterations.\")\n",
    "\n",
    "\n",
    "def plot_brownian_motion(data):\n",
    "    \"\"\"\n",
    "    Plot 1 or 2 dimensional stocastic walks. \n",
    "    \n",
    "    ::param data: (list[list]) list of stocastic walk results\n",
    "    \"\"\"\n",
    "    if len(data[0]) == 1:\n",
    "        plot_1d_stocastic_walk(data)\n",
    "    elif len(data[0]) == 2:\n",
    "        plot_2d_stocastic_walk(data)\n",
    "    else:\n",
    "        print(\"\"\"Cannot plot more than 2 dimensions. Maybe apply PCA?\"\"\")\n",
    "        \n",
    "\n",
    "def plot_distances(data):\n",
    "    \"\"\"\n",
    "    Plot the distribution of distances.\n",
    "    \n",
    "    ::param data: (list) list of stocastic walk distance results\n",
    "    \"\"\"\n",
    "    data.sort()\n",
    "    plt.hist(data, bins=100)\n",
    "    plt.title(f\"Distance Distribution results after {len(data)} iterations.\")\n",
    "    plt.xlabel('Count')\n",
    "    plt.ylabel('Distance from Origin')\n",
    "    plt.show()"
   ]
  },
  {
   "cell_type": "code",
   "execution_count": 8,
   "metadata": {},
   "outputs": [],
   "source": [
    "def expected_value(data_point):\n",
    "    \"\"\"\n",
    "    Function to get a expected value from a list of floats.\n",
    "    \n",
    "    ::params data_point: (list[list]) list of stocastic walk results \n",
    "    ::returns: (float)    \n",
    "    \"\"\"\n",
    "    return sum(data_point)/len(data_point)"
   ]
  },
  {
   "cell_type": "code",
   "execution_count": 9,
   "metadata": {},
   "outputs": [],
   "source": [
    "def standard_deviation(distances, expected):\n",
    "    \"\"\"\n",
    "    Function to get a standard deviation from the\n",
    "    results of the dice rolls.\n",
    "    \n",
    "    ::params distances: (list) list of distances\n",
    "    ::param expected: (float) Expected value of the list\n",
    "    ::returns: (float)    \n",
    "    \"\"\"\n",
    "    std_dev = 0\n",
    "    for i in distances:\n",
    "        std_dev += (i-expected)**2\n",
    "    std_dev = std_dev/len(distances)\n",
    "    return std_dev**(1/2)"
   ]
  },
  {
   "cell_type": "code",
   "execution_count": 10,
   "metadata": {},
   "outputs": [
    {
     "name": "stdout",
     "output_type": "stream",
     "text": [
      "Wall time: 18.3 s\n"
     ]
    },
    {
     "data": {
      "image/png": "[encoded data removed]",
      "text/plain": [
       "<Figure size 432x288 with 1 Axes>"
      ]
     },
     "metadata": {
      "needs_background": "light"
     },
     "output_type": "display_data"
    }
   ],
   "source": [
    "%%time\n",
    "# Number of steps\n",
    "step = 10\n",
    "\n",
    "# Iterate over Borwnian Motion (Weiner Process)\n",
    "result = iterate_stocastic_walk(\n",
    "    iterations=1000000,\n",
    "    steps=step,\n",
    "    dim=1,\n",
    "    step_range=(-1,1))\n",
    "\n",
    "# Function to return distance from the stocastic walks\n",
    "distances = stocastic_distance_origin(result)\n",
    "\n",
    "# Return the Expected Value and Standard Deviation\n",
    "expected_values = expected_value(distances)\n",
    "std_dev = standard_deviation(distances, expected_values)\n",
    "\n",
    "# Plot the brownian motion\n",
    "plot_brownian_motion(result)"
   ]
  },
  {
   "cell_type": "code",
   "execution_count": 11,
   "metadata": {},
   "outputs": [
    {
     "name": "stdout",
     "output_type": "stream",
     "text": [
      "Expected Value from Experiment: 1.4615376057402827\n",
      "Expected Value Calculated: 1.4567312407894388\n"
     ]
    }
   ],
   "source": [
    "print(f\"Expected Value from Experiment: {expected_values}\")\n",
    "print(f\"Expected Value Calculated: {calculated_expected_value_distance(step)}\")"
   ]
  },
  {
   "cell_type": "code",
   "execution_count": 12,
   "metadata": {},
   "outputs": [
    {
     "name": "stdout",
     "output_type": "stream",
     "text": [
      "Standard Deviation from Experiment: 1.0902973563356895\n",
      "Standard Deviation Calculated:  1.100575951691384\n"
     ]
    }
   ],
   "source": [
    "print(f\"Standard Deviation from Experiment: {std_dev}\")\n",
    "print(\"Standard Deviation Calculated: \", calculated_standard_deviation_distance(step))"
   ]
  },
  {
   "cell_type": "code",
   "execution_count": 13,
   "metadata": {},
   "outputs": [
    {
     "data": {
      "image/png": "[encoded data removed]",
      "text/plain": [
       "<Figure size 432x288 with 1 Axes>"
      ]
     },
     "metadata": {
      "needs_background": "light"
     },
     "output_type": "display_data"
    }
   ],
   "source": [
    "# Plot the distribution of distances from the random walks\n",
    "plot_distances(distances)"
   ]
  },
  {
   "cell_type": "code",
   "execution_count": null,
   "metadata": {},
   "outputs": [],
   "source": []
  }
 ],
 "metadata": {
  "kernelspec": {
   "display_name": "Python 3",
   "language": "python",
   "name": "python3"
  },
  "language_info": {
   "codemirror_mode": {
    "name": "ipython",
    "version": 3
   },
   "file_extension": ".py",
   "mimetype": "text/x-python",
   "name": "python",
   "nbconvert_exporter": "python",
   "pygments_lexer": "ipython3",
   "version": "3.8.5"
  }
 },
 "nbformat": 4,
 "nbformat_minor": 2
}
